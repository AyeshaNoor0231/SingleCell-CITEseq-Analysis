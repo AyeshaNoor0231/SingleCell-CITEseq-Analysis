{
 "cells": [
  {
   "cell_type": "code",
   "execution_count": 1,
   "id": "074f1f8a",
   "metadata": {
    "execution": {
     "iopub.execute_input": "2025-08-27T10:18:16.619687Z",
     "iopub.status.busy": "2025-08-27T10:18:16.619247Z",
     "iopub.status.idle": "2025-08-27T10:19:14.254013Z",
     "shell.execute_reply": "2025-08-27T10:19:14.252671Z"
    },
    "papermill": {
     "duration": 57.646495,
     "end_time": "2025-08-27T10:19:14.259142",
     "exception": false,
     "start_time": "2025-08-27T10:18:16.612647",
     "status": "completed"
    },
    "tags": []
   },
   "outputs": [
    {
     "name": "stdout",
     "output_type": "stream",
     "text": [
      "Input Data Shape: (70988, 22050)\n"
     ]
    },
    {
     "data": {
      "text/html": [
       "<div>\n",
       "<style scoped>\n",
       "    .dataframe tbody tr th:only-of-type {\n",
       "        vertical-align: middle;\n",
       "    }\n",
       "\n",
       "    .dataframe tbody tr th {\n",
       "        vertical-align: top;\n",
       "    }\n",
       "\n",
       "    .dataframe thead th {\n",
       "        text-align: right;\n",
       "    }\n",
       "</style>\n",
       "<table border=\"1\" class=\"dataframe\">\n",
       "  <thead>\n",
       "    <tr style=\"text-align: right;\">\n",
       "      <th>gene_id</th>\n",
       "      <th>ENSG00000121410_A1BG</th>\n",
       "      <th>ENSG00000268895_A1BG-AS1</th>\n",
       "      <th>ENSG00000175899_A2M</th>\n",
       "      <th>ENSG00000245105_A2M-AS1</th>\n",
       "      <th>ENSG00000166535_A2ML1</th>\n",
       "      <th>ENSG00000128274_A4GALT</th>\n",
       "      <th>ENSG00000094914_AAAS</th>\n",
       "      <th>ENSG00000081760_AACS</th>\n",
       "      <th>ENSG00000109576_AADAT</th>\n",
       "      <th>ENSG00000103591_AAGAB</th>\n",
       "      <th>...</th>\n",
       "      <th>ENSG00000153975_ZUP1</th>\n",
       "      <th>ENSG00000086827_ZW10</th>\n",
       "      <th>ENSG00000174442_ZWILCH</th>\n",
       "      <th>ENSG00000122952_ZWINT</th>\n",
       "      <th>ENSG00000198205_ZXDA</th>\n",
       "      <th>ENSG00000198455_ZXDB</th>\n",
       "      <th>ENSG00000070476_ZXDC</th>\n",
       "      <th>ENSG00000162378_ZYG11B</th>\n",
       "      <th>ENSG00000159840_ZYX</th>\n",
       "      <th>ENSG00000074755_ZZEF1</th>\n",
       "    </tr>\n",
       "    <tr>\n",
       "      <th>cell_id</th>\n",
       "      <th></th>\n",
       "      <th></th>\n",
       "      <th></th>\n",
       "      <th></th>\n",
       "      <th></th>\n",
       "      <th></th>\n",
       "      <th></th>\n",
       "      <th></th>\n",
       "      <th></th>\n",
       "      <th></th>\n",
       "      <th></th>\n",
       "      <th></th>\n",
       "      <th></th>\n",
       "      <th></th>\n",
       "      <th></th>\n",
       "      <th></th>\n",
       "      <th></th>\n",
       "      <th></th>\n",
       "      <th></th>\n",
       "      <th></th>\n",
       "      <th></th>\n",
       "    </tr>\n",
       "  </thead>\n",
       "  <tbody>\n",
       "    <tr>\n",
       "      <th>45006fe3e4c8</th>\n",
       "      <td>0.0</td>\n",
       "      <td>0.000000</td>\n",
       "      <td>0.0</td>\n",
       "      <td>0.0</td>\n",
       "      <td>0.0</td>\n",
       "      <td>0.000000</td>\n",
       "      <td>0.000000</td>\n",
       "      <td>0.000000</td>\n",
       "      <td>0.000000</td>\n",
       "      <td>0.000000</td>\n",
       "      <td>...</td>\n",
       "      <td>0.000000</td>\n",
       "      <td>0.000000</td>\n",
       "      <td>0.000000</td>\n",
       "      <td>0.000000</td>\n",
       "      <td>0.0</td>\n",
       "      <td>0.0</td>\n",
       "      <td>0.000000</td>\n",
       "      <td>0.000000</td>\n",
       "      <td>4.090185</td>\n",
       "      <td>0.000000</td>\n",
       "    </tr>\n",
       "    <tr>\n",
       "      <th>d02759a80ba2</th>\n",
       "      <td>0.0</td>\n",
       "      <td>0.000000</td>\n",
       "      <td>0.0</td>\n",
       "      <td>0.0</td>\n",
       "      <td>0.0</td>\n",
       "      <td>0.000000</td>\n",
       "      <td>0.000000</td>\n",
       "      <td>0.000000</td>\n",
       "      <td>0.000000</td>\n",
       "      <td>0.000000</td>\n",
       "      <td>...</td>\n",
       "      <td>0.000000</td>\n",
       "      <td>0.000000</td>\n",
       "      <td>0.000000</td>\n",
       "      <td>4.039545</td>\n",
       "      <td>0.0</td>\n",
       "      <td>0.0</td>\n",
       "      <td>0.000000</td>\n",
       "      <td>0.000000</td>\n",
       "      <td>0.000000</td>\n",
       "      <td>0.000000</td>\n",
       "    </tr>\n",
       "    <tr>\n",
       "      <th>c016c6b0efa5</th>\n",
       "      <td>0.0</td>\n",
       "      <td>0.000000</td>\n",
       "      <td>0.0</td>\n",
       "      <td>0.0</td>\n",
       "      <td>0.0</td>\n",
       "      <td>3.847321</td>\n",
       "      <td>0.000000</td>\n",
       "      <td>3.847321</td>\n",
       "      <td>3.847321</td>\n",
       "      <td>0.000000</td>\n",
       "      <td>...</td>\n",
       "      <td>0.000000</td>\n",
       "      <td>0.000000</td>\n",
       "      <td>3.847321</td>\n",
       "      <td>4.529743</td>\n",
       "      <td>0.0</td>\n",
       "      <td>0.0</td>\n",
       "      <td>0.000000</td>\n",
       "      <td>3.847321</td>\n",
       "      <td>3.847321</td>\n",
       "      <td>0.000000</td>\n",
       "    </tr>\n",
       "    <tr>\n",
       "      <th>ba7f733a4f75</th>\n",
       "      <td>0.0</td>\n",
       "      <td>0.000000</td>\n",
       "      <td>0.0</td>\n",
       "      <td>0.0</td>\n",
       "      <td>0.0</td>\n",
       "      <td>0.000000</td>\n",
       "      <td>3.436846</td>\n",
       "      <td>3.436846</td>\n",
       "      <td>0.000000</td>\n",
       "      <td>0.000000</td>\n",
       "      <td>...</td>\n",
       "      <td>3.436846</td>\n",
       "      <td>0.000000</td>\n",
       "      <td>4.113780</td>\n",
       "      <td>5.020215</td>\n",
       "      <td>0.0</td>\n",
       "      <td>0.0</td>\n",
       "      <td>0.000000</td>\n",
       "      <td>3.436846</td>\n",
       "      <td>4.113780</td>\n",
       "      <td>0.000000</td>\n",
       "    </tr>\n",
       "    <tr>\n",
       "      <th>fbcf2443ffb2</th>\n",
       "      <td>0.0</td>\n",
       "      <td>0.000000</td>\n",
       "      <td>0.0</td>\n",
       "      <td>0.0</td>\n",
       "      <td>0.0</td>\n",
       "      <td>0.000000</td>\n",
       "      <td>0.000000</td>\n",
       "      <td>4.196826</td>\n",
       "      <td>0.000000</td>\n",
       "      <td>0.000000</td>\n",
       "      <td>...</td>\n",
       "      <td>0.000000</td>\n",
       "      <td>4.196826</td>\n",
       "      <td>4.196826</td>\n",
       "      <td>4.196826</td>\n",
       "      <td>0.0</td>\n",
       "      <td>0.0</td>\n",
       "      <td>3.518610</td>\n",
       "      <td>4.196826</td>\n",
       "      <td>3.518610</td>\n",
       "      <td>0.000000</td>\n",
       "    </tr>\n",
       "    <tr>\n",
       "      <th>d80d84ca8e89</th>\n",
       "      <td>0.0</td>\n",
       "      <td>0.000000</td>\n",
       "      <td>0.0</td>\n",
       "      <td>0.0</td>\n",
       "      <td>0.0</td>\n",
       "      <td>0.000000</td>\n",
       "      <td>3.651999</td>\n",
       "      <td>0.000000</td>\n",
       "      <td>0.000000</td>\n",
       "      <td>3.651999</td>\n",
       "      <td>...</td>\n",
       "      <td>0.000000</td>\n",
       "      <td>0.000000</td>\n",
       "      <td>3.651999</td>\n",
       "      <td>4.332091</td>\n",
       "      <td>0.0</td>\n",
       "      <td>0.0</td>\n",
       "      <td>3.651999</td>\n",
       "      <td>0.000000</td>\n",
       "      <td>4.733167</td>\n",
       "      <td>0.000000</td>\n",
       "    </tr>\n",
       "    <tr>\n",
       "      <th>1ac2049b4c98</th>\n",
       "      <td>0.0</td>\n",
       "      <td>0.000000</td>\n",
       "      <td>0.0</td>\n",
       "      <td>0.0</td>\n",
       "      <td>0.0</td>\n",
       "      <td>0.000000</td>\n",
       "      <td>4.048356</td>\n",
       "      <td>0.000000</td>\n",
       "      <td>0.000000</td>\n",
       "      <td>0.000000</td>\n",
       "      <td>...</td>\n",
       "      <td>0.000000</td>\n",
       "      <td>0.000000</td>\n",
       "      <td>4.048356</td>\n",
       "      <td>5.135265</td>\n",
       "      <td>0.0</td>\n",
       "      <td>0.0</td>\n",
       "      <td>0.000000</td>\n",
       "      <td>0.000000</td>\n",
       "      <td>4.732739</td>\n",
       "      <td>4.048356</td>\n",
       "    </tr>\n",
       "    <tr>\n",
       "      <th>33fb0c29e2e4</th>\n",
       "      <td>0.0</td>\n",
       "      <td>0.000000</td>\n",
       "      <td>0.0</td>\n",
       "      <td>0.0</td>\n",
       "      <td>0.0</td>\n",
       "      <td>0.000000</td>\n",
       "      <td>0.000000</td>\n",
       "      <td>4.392134</td>\n",
       "      <td>0.000000</td>\n",
       "      <td>3.317969</td>\n",
       "      <td>...</td>\n",
       "      <td>0.000000</td>\n",
       "      <td>3.317969</td>\n",
       "      <td>0.000000</td>\n",
       "      <td>3.992837</td>\n",
       "      <td>0.0</td>\n",
       "      <td>0.0</td>\n",
       "      <td>0.000000</td>\n",
       "      <td>0.000000</td>\n",
       "      <td>3.992837</td>\n",
       "      <td>0.000000</td>\n",
       "    </tr>\n",
       "    <tr>\n",
       "      <th>b329261bd0ee</th>\n",
       "      <td>0.0</td>\n",
       "      <td>3.775647</td>\n",
       "      <td>0.0</td>\n",
       "      <td>0.0</td>\n",
       "      <td>0.0</td>\n",
       "      <td>0.000000</td>\n",
       "      <td>3.775647</td>\n",
       "      <td>0.000000</td>\n",
       "      <td>0.000000</td>\n",
       "      <td>4.457267</td>\n",
       "      <td>...</td>\n",
       "      <td>0.000000</td>\n",
       "      <td>3.775647</td>\n",
       "      <td>0.000000</td>\n",
       "      <td>4.457267</td>\n",
       "      <td>0.0</td>\n",
       "      <td>0.0</td>\n",
       "      <td>0.000000</td>\n",
       "      <td>0.000000</td>\n",
       "      <td>4.457267</td>\n",
       "      <td>3.775647</td>\n",
       "    </tr>\n",
       "    <tr>\n",
       "      <th>703762287e88</th>\n",
       "      <td>0.0</td>\n",
       "      <td>0.000000</td>\n",
       "      <td>0.0</td>\n",
       "      <td>0.0</td>\n",
       "      <td>0.0</td>\n",
       "      <td>0.000000</td>\n",
       "      <td>4.031628</td>\n",
       "      <td>4.031628</td>\n",
       "      <td>0.000000</td>\n",
       "      <td>4.031628</td>\n",
       "      <td>...</td>\n",
       "      <td>0.000000</td>\n",
       "      <td>0.000000</td>\n",
       "      <td>0.000000</td>\n",
       "      <td>4.715863</td>\n",
       "      <td>0.0</td>\n",
       "      <td>0.0</td>\n",
       "      <td>0.000000</td>\n",
       "      <td>0.000000</td>\n",
       "      <td>0.000000</td>\n",
       "      <td>0.000000</td>\n",
       "    </tr>\n",
       "  </tbody>\n",
       "</table>\n",
       "<p>10 rows × 22050 columns</p>\n",
       "</div>"
      ],
      "text/plain": [
       "gene_id       ENSG00000121410_A1BG  ENSG00000268895_A1BG-AS1  \\\n",
       "cell_id                                                        \n",
       "45006fe3e4c8                   0.0                  0.000000   \n",
       "d02759a80ba2                   0.0                  0.000000   \n",
       "c016c6b0efa5                   0.0                  0.000000   \n",
       "ba7f733a4f75                   0.0                  0.000000   \n",
       "fbcf2443ffb2                   0.0                  0.000000   \n",
       "d80d84ca8e89                   0.0                  0.000000   \n",
       "1ac2049b4c98                   0.0                  0.000000   \n",
       "33fb0c29e2e4                   0.0                  0.000000   \n",
       "b329261bd0ee                   0.0                  3.775647   \n",
       "703762287e88                   0.0                  0.000000   \n",
       "\n",
       "gene_id       ENSG00000175899_A2M  ENSG00000245105_A2M-AS1  \\\n",
       "cell_id                                                      \n",
       "45006fe3e4c8                  0.0                      0.0   \n",
       "d02759a80ba2                  0.0                      0.0   \n",
       "c016c6b0efa5                  0.0                      0.0   \n",
       "ba7f733a4f75                  0.0                      0.0   \n",
       "fbcf2443ffb2                  0.0                      0.0   \n",
       "d80d84ca8e89                  0.0                      0.0   \n",
       "1ac2049b4c98                  0.0                      0.0   \n",
       "33fb0c29e2e4                  0.0                      0.0   \n",
       "b329261bd0ee                  0.0                      0.0   \n",
       "703762287e88                  0.0                      0.0   \n",
       "\n",
       "gene_id       ENSG00000166535_A2ML1  ENSG00000128274_A4GALT  \\\n",
       "cell_id                                                       \n",
       "45006fe3e4c8                    0.0                0.000000   \n",
       "d02759a80ba2                    0.0                0.000000   \n",
       "c016c6b0efa5                    0.0                3.847321   \n",
       "ba7f733a4f75                    0.0                0.000000   \n",
       "fbcf2443ffb2                    0.0                0.000000   \n",
       "d80d84ca8e89                    0.0                0.000000   \n",
       "1ac2049b4c98                    0.0                0.000000   \n",
       "33fb0c29e2e4                    0.0                0.000000   \n",
       "b329261bd0ee                    0.0                0.000000   \n",
       "703762287e88                    0.0                0.000000   \n",
       "\n",
       "gene_id       ENSG00000094914_AAAS  ENSG00000081760_AACS  \\\n",
       "cell_id                                                    \n",
       "45006fe3e4c8              0.000000              0.000000   \n",
       "d02759a80ba2              0.000000              0.000000   \n",
       "c016c6b0efa5              0.000000              3.847321   \n",
       "ba7f733a4f75              3.436846              3.436846   \n",
       "fbcf2443ffb2              0.000000              4.196826   \n",
       "d80d84ca8e89              3.651999              0.000000   \n",
       "1ac2049b4c98              4.048356              0.000000   \n",
       "33fb0c29e2e4              0.000000              4.392134   \n",
       "b329261bd0ee              3.775647              0.000000   \n",
       "703762287e88              4.031628              4.031628   \n",
       "\n",
       "gene_id       ENSG00000109576_AADAT  ENSG00000103591_AAGAB  ...  \\\n",
       "cell_id                                                     ...   \n",
       "45006fe3e4c8               0.000000               0.000000  ...   \n",
       "d02759a80ba2               0.000000               0.000000  ...   \n",
       "c016c6b0efa5               3.847321               0.000000  ...   \n",
       "ba7f733a4f75               0.000000               0.000000  ...   \n",
       "fbcf2443ffb2               0.000000               0.000000  ...   \n",
       "d80d84ca8e89               0.000000               3.651999  ...   \n",
       "1ac2049b4c98               0.000000               0.000000  ...   \n",
       "33fb0c29e2e4               0.000000               3.317969  ...   \n",
       "b329261bd0ee               0.000000               4.457267  ...   \n",
       "703762287e88               0.000000               4.031628  ...   \n",
       "\n",
       "gene_id       ENSG00000153975_ZUP1  ENSG00000086827_ZW10  \\\n",
       "cell_id                                                    \n",
       "45006fe3e4c8              0.000000              0.000000   \n",
       "d02759a80ba2              0.000000              0.000000   \n",
       "c016c6b0efa5              0.000000              0.000000   \n",
       "ba7f733a4f75              3.436846              0.000000   \n",
       "fbcf2443ffb2              0.000000              4.196826   \n",
       "d80d84ca8e89              0.000000              0.000000   \n",
       "1ac2049b4c98              0.000000              0.000000   \n",
       "33fb0c29e2e4              0.000000              3.317969   \n",
       "b329261bd0ee              0.000000              3.775647   \n",
       "703762287e88              0.000000              0.000000   \n",
       "\n",
       "gene_id       ENSG00000174442_ZWILCH  ENSG00000122952_ZWINT  \\\n",
       "cell_id                                                       \n",
       "45006fe3e4c8                0.000000               0.000000   \n",
       "d02759a80ba2                0.000000               4.039545   \n",
       "c016c6b0efa5                3.847321               4.529743   \n",
       "ba7f733a4f75                4.113780               5.020215   \n",
       "fbcf2443ffb2                4.196826               4.196826   \n",
       "d80d84ca8e89                3.651999               4.332091   \n",
       "1ac2049b4c98                4.048356               5.135265   \n",
       "33fb0c29e2e4                0.000000               3.992837   \n",
       "b329261bd0ee                0.000000               4.457267   \n",
       "703762287e88                0.000000               4.715863   \n",
       "\n",
       "gene_id       ENSG00000198205_ZXDA  ENSG00000198455_ZXDB  \\\n",
       "cell_id                                                    \n",
       "45006fe3e4c8                   0.0                   0.0   \n",
       "d02759a80ba2                   0.0                   0.0   \n",
       "c016c6b0efa5                   0.0                   0.0   \n",
       "ba7f733a4f75                   0.0                   0.0   \n",
       "fbcf2443ffb2                   0.0                   0.0   \n",
       "d80d84ca8e89                   0.0                   0.0   \n",
       "1ac2049b4c98                   0.0                   0.0   \n",
       "33fb0c29e2e4                   0.0                   0.0   \n",
       "b329261bd0ee                   0.0                   0.0   \n",
       "703762287e88                   0.0                   0.0   \n",
       "\n",
       "gene_id       ENSG00000070476_ZXDC  ENSG00000162378_ZYG11B  \\\n",
       "cell_id                                                      \n",
       "45006fe3e4c8              0.000000                0.000000   \n",
       "d02759a80ba2              0.000000                0.000000   \n",
       "c016c6b0efa5              0.000000                3.847321   \n",
       "ba7f733a4f75              0.000000                3.436846   \n",
       "fbcf2443ffb2              3.518610                4.196826   \n",
       "d80d84ca8e89              3.651999                0.000000   \n",
       "1ac2049b4c98              0.000000                0.000000   \n",
       "33fb0c29e2e4              0.000000                0.000000   \n",
       "b329261bd0ee              0.000000                0.000000   \n",
       "703762287e88              0.000000                0.000000   \n",
       "\n",
       "gene_id       ENSG00000159840_ZYX  ENSG00000074755_ZZEF1  \n",
       "cell_id                                                   \n",
       "45006fe3e4c8             4.090185               0.000000  \n",
       "d02759a80ba2             0.000000               0.000000  \n",
       "c016c6b0efa5             3.847321               0.000000  \n",
       "ba7f733a4f75             4.113780               0.000000  \n",
       "fbcf2443ffb2             3.518610               0.000000  \n",
       "d80d84ca8e89             4.733167               0.000000  \n",
       "1ac2049b4c98             4.732739               4.048356  \n",
       "33fb0c29e2e4             3.992837               0.000000  \n",
       "b329261bd0ee             4.457267               3.775647  \n",
       "703762287e88             0.000000               0.000000  \n",
       "\n",
       "[10 rows x 22050 columns]"
      ]
     },
     "execution_count": 1,
     "metadata": {},
     "output_type": "execute_result"
    }
   ],
   "source": [
    "import pandas as pd\n",
    "\n",
    "file_path = \"/kaggle/input/open-problems-multimodal/train_cite_inputs.h5\"\n",
    "\n",
    "X = pd.read_hdf(file_path)\n",
    "print(\"Input Data Shape:\",X.shape)\n",
    "X.head(10)  \n"
   ]
  },
  {
   "cell_type": "code",
   "execution_count": 2,
   "id": "761fffbd",
   "metadata": {
    "execution": {
     "iopub.execute_input": "2025-08-27T10:19:14.271411Z",
     "iopub.status.busy": "2025-08-27T10:19:14.270848Z",
     "iopub.status.idle": "2025-08-27T10:19:14.815399Z",
     "shell.execute_reply": "2025-08-27T10:19:14.814364Z"
    },
    "papermill": {
     "duration": 0.552376,
     "end_time": "2025-08-27T10:19:14.817112",
     "exception": false,
     "start_time": "2025-08-27T10:19:14.264736",
     "status": "completed"
    },
    "tags": []
   },
   "outputs": [
    {
     "name": "stdout",
     "output_type": "stream",
     "text": [
      "Protein data shape: (70988, 140)\n"
     ]
    },
    {
     "data": {
      "text/html": [
       "<div>\n",
       "<style scoped>\n",
       "    .dataframe tbody tr th:only-of-type {\n",
       "        vertical-align: middle;\n",
       "    }\n",
       "\n",
       "    .dataframe tbody tr th {\n",
       "        vertical-align: top;\n",
       "    }\n",
       "\n",
       "    .dataframe thead th {\n",
       "        text-align: right;\n",
       "    }\n",
       "</style>\n",
       "<table border=\"1\" class=\"dataframe\">\n",
       "  <thead>\n",
       "    <tr style=\"text-align: right;\">\n",
       "      <th>gene_id</th>\n",
       "      <th>CD86</th>\n",
       "      <th>CD274</th>\n",
       "      <th>CD270</th>\n",
       "      <th>CD155</th>\n",
       "      <th>CD112</th>\n",
       "      <th>CD47</th>\n",
       "      <th>CD48</th>\n",
       "      <th>CD40</th>\n",
       "      <th>CD154</th>\n",
       "      <th>CD52</th>\n",
       "      <th>...</th>\n",
       "      <th>CD94</th>\n",
       "      <th>CD162</th>\n",
       "      <th>CD85j</th>\n",
       "      <th>CD23</th>\n",
       "      <th>CD328</th>\n",
       "      <th>HLA-E</th>\n",
       "      <th>CD82</th>\n",
       "      <th>CD101</th>\n",
       "      <th>CD88</th>\n",
       "      <th>CD224</th>\n",
       "    </tr>\n",
       "    <tr>\n",
       "      <th>cell_id</th>\n",
       "      <th></th>\n",
       "      <th></th>\n",
       "      <th></th>\n",
       "      <th></th>\n",
       "      <th></th>\n",
       "      <th></th>\n",
       "      <th></th>\n",
       "      <th></th>\n",
       "      <th></th>\n",
       "      <th></th>\n",
       "      <th></th>\n",
       "      <th></th>\n",
       "      <th></th>\n",
       "      <th></th>\n",
       "      <th></th>\n",
       "      <th></th>\n",
       "      <th></th>\n",
       "      <th></th>\n",
       "      <th></th>\n",
       "      <th></th>\n",
       "      <th></th>\n",
       "    </tr>\n",
       "  </thead>\n",
       "  <tbody>\n",
       "    <tr>\n",
       "      <th>45006fe3e4c8</th>\n",
       "      <td>1.167804</td>\n",
       "      <td>0.622530</td>\n",
       "      <td>0.106959</td>\n",
       "      <td>0.324989</td>\n",
       "      <td>3.331674</td>\n",
       "      <td>6.426002</td>\n",
       "      <td>1.480766</td>\n",
       "      <td>-0.728392</td>\n",
       "      <td>-0.468851</td>\n",
       "      <td>-0.073285</td>\n",
       "      <td>...</td>\n",
       "      <td>-0.448390</td>\n",
       "      <td>3.220174</td>\n",
       "      <td>-0.533004</td>\n",
       "      <td>0.674956</td>\n",
       "      <td>-0.006187</td>\n",
       "      <td>0.682148</td>\n",
       "      <td>1.398105</td>\n",
       "      <td>0.414292</td>\n",
       "      <td>1.780314</td>\n",
       "      <td>0.548070</td>\n",
       "    </tr>\n",
       "    <tr>\n",
       "      <th>d02759a80ba2</th>\n",
       "      <td>0.818970</td>\n",
       "      <td>0.506009</td>\n",
       "      <td>1.078682</td>\n",
       "      <td>6.848758</td>\n",
       "      <td>3.524885</td>\n",
       "      <td>5.279456</td>\n",
       "      <td>4.930438</td>\n",
       "      <td>2.069372</td>\n",
       "      <td>0.333652</td>\n",
       "      <td>-0.468088</td>\n",
       "      <td>...</td>\n",
       "      <td>0.323613</td>\n",
       "      <td>8.407108</td>\n",
       "      <td>0.131301</td>\n",
       "      <td>0.047607</td>\n",
       "      <td>-0.243628</td>\n",
       "      <td>0.547864</td>\n",
       "      <td>1.832587</td>\n",
       "      <td>0.982308</td>\n",
       "      <td>2.736507</td>\n",
       "      <td>2.184063</td>\n",
       "    </tr>\n",
       "    <tr>\n",
       "      <th>c016c6b0efa5</th>\n",
       "      <td>-0.356703</td>\n",
       "      <td>-0.422261</td>\n",
       "      <td>-0.824493</td>\n",
       "      <td>1.137495</td>\n",
       "      <td>0.518924</td>\n",
       "      <td>7.221962</td>\n",
       "      <td>-0.375034</td>\n",
       "      <td>1.738071</td>\n",
       "      <td>0.142919</td>\n",
       "      <td>-0.971460</td>\n",
       "      <td>...</td>\n",
       "      <td>1.348692</td>\n",
       "      <td>4.888579</td>\n",
       "      <td>-0.279483</td>\n",
       "      <td>-0.131097</td>\n",
       "      <td>-0.177604</td>\n",
       "      <td>-0.689188</td>\n",
       "      <td>9.013709</td>\n",
       "      <td>-1.182975</td>\n",
       "      <td>3.958148</td>\n",
       "      <td>2.868600</td>\n",
       "    </tr>\n",
       "    <tr>\n",
       "      <th>ba7f733a4f75</th>\n",
       "      <td>-1.201507</td>\n",
       "      <td>0.149115</td>\n",
       "      <td>2.022468</td>\n",
       "      <td>6.021595</td>\n",
       "      <td>7.258670</td>\n",
       "      <td>2.792436</td>\n",
       "      <td>21.708519</td>\n",
       "      <td>-0.137913</td>\n",
       "      <td>1.649969</td>\n",
       "      <td>-0.754680</td>\n",
       "      <td>...</td>\n",
       "      <td>1.504426</td>\n",
       "      <td>12.391979</td>\n",
       "      <td>0.511394</td>\n",
       "      <td>0.587863</td>\n",
       "      <td>-0.752638</td>\n",
       "      <td>1.714851</td>\n",
       "      <td>3.893782</td>\n",
       "      <td>1.799661</td>\n",
       "      <td>1.537249</td>\n",
       "      <td>4.407671</td>\n",
       "    </tr>\n",
       "    <tr>\n",
       "      <th>fbcf2443ffb2</th>\n",
       "      <td>-0.100404</td>\n",
       "      <td>0.697461</td>\n",
       "      <td>0.625836</td>\n",
       "      <td>-0.298404</td>\n",
       "      <td>1.369898</td>\n",
       "      <td>3.254521</td>\n",
       "      <td>-1.659380</td>\n",
       "      <td>0.643531</td>\n",
       "      <td>0.902710</td>\n",
       "      <td>1.291877</td>\n",
       "      <td>...</td>\n",
       "      <td>0.777023</td>\n",
       "      <td>6.496499</td>\n",
       "      <td>0.279898</td>\n",
       "      <td>-0.841950</td>\n",
       "      <td>-0.869419</td>\n",
       "      <td>0.675092</td>\n",
       "      <td>5.259685</td>\n",
       "      <td>-0.835379</td>\n",
       "      <td>9.631781</td>\n",
       "      <td>1.765445</td>\n",
       "    </tr>\n",
       "    <tr>\n",
       "      <th>d80d84ca8e89</th>\n",
       "      <td>0.823984</td>\n",
       "      <td>1.625772</td>\n",
       "      <td>1.822752</td>\n",
       "      <td>4.997647</td>\n",
       "      <td>3.724057</td>\n",
       "      <td>6.518525</td>\n",
       "      <td>2.449981</td>\n",
       "      <td>1.173179</td>\n",
       "      <td>2.295857</td>\n",
       "      <td>-0.462413</td>\n",
       "      <td>...</td>\n",
       "      <td>0.901014</td>\n",
       "      <td>9.267448</td>\n",
       "      <td>1.097684</td>\n",
       "      <td>0.813053</td>\n",
       "      <td>-0.240215</td>\n",
       "      <td>-0.805000</td>\n",
       "      <td>6.743105</td>\n",
       "      <td>0.674436</td>\n",
       "      <td>7.553413</td>\n",
       "      <td>6.586785</td>\n",
       "    </tr>\n",
       "    <tr>\n",
       "      <th>1ac2049b4c98</th>\n",
       "      <td>-0.251233</td>\n",
       "      <td>0.437289</td>\n",
       "      <td>0.446926</td>\n",
       "      <td>2.287276</td>\n",
       "      <td>4.846608</td>\n",
       "      <td>4.191521</td>\n",
       "      <td>-0.241756</td>\n",
       "      <td>-0.242487</td>\n",
       "      <td>-0.451786</td>\n",
       "      <td>-0.852090</td>\n",
       "      <td>...</td>\n",
       "      <td>-0.354183</td>\n",
       "      <td>4.410163</td>\n",
       "      <td>-0.137172</td>\n",
       "      <td>0.206710</td>\n",
       "      <td>-0.105814</td>\n",
       "      <td>1.359257</td>\n",
       "      <td>6.786676</td>\n",
       "      <td>0.925184</td>\n",
       "      <td>0.734522</td>\n",
       "      <td>2.155540</td>\n",
       "    </tr>\n",
       "    <tr>\n",
       "      <th>33fb0c29e2e4</th>\n",
       "      <td>-0.712949</td>\n",
       "      <td>0.767436</td>\n",
       "      <td>0.319612</td>\n",
       "      <td>2.086327</td>\n",
       "      <td>4.764974</td>\n",
       "      <td>4.226422</td>\n",
       "      <td>3.407308</td>\n",
       "      <td>-0.152221</td>\n",
       "      <td>0.143234</td>\n",
       "      <td>0.789948</td>\n",
       "      <td>...</td>\n",
       "      <td>1.399044</td>\n",
       "      <td>6.574143</td>\n",
       "      <td>-0.218504</td>\n",
       "      <td>0.164048</td>\n",
       "      <td>-0.420091</td>\n",
       "      <td>0.777930</td>\n",
       "      <td>0.228930</td>\n",
       "      <td>-0.357916</td>\n",
       "      <td>0.167051</td>\n",
       "      <td>0.144523</td>\n",
       "    </tr>\n",
       "    <tr>\n",
       "      <th>b329261bd0ee</th>\n",
       "      <td>-0.789034</td>\n",
       "      <td>-0.969421</td>\n",
       "      <td>-0.778914</td>\n",
       "      <td>6.375010</td>\n",
       "      <td>2.194136</td>\n",
       "      <td>5.418705</td>\n",
       "      <td>0.616213</td>\n",
       "      <td>-0.821651</td>\n",
       "      <td>0.945098</td>\n",
       "      <td>-0.287850</td>\n",
       "      <td>...</td>\n",
       "      <td>-1.523964</td>\n",
       "      <td>13.045828</td>\n",
       "      <td>0.177115</td>\n",
       "      <td>-0.282712</td>\n",
       "      <td>-0.471879</td>\n",
       "      <td>0.125659</td>\n",
       "      <td>2.828253</td>\n",
       "      <td>-0.454536</td>\n",
       "      <td>3.906054</td>\n",
       "      <td>3.682451</td>\n",
       "    </tr>\n",
       "    <tr>\n",
       "      <th>703762287e88</th>\n",
       "      <td>-0.473821</td>\n",
       "      <td>0.155581</td>\n",
       "      <td>-0.370770</td>\n",
       "      <td>4.325928</td>\n",
       "      <td>3.505487</td>\n",
       "      <td>9.068518</td>\n",
       "      <td>4.905013</td>\n",
       "      <td>0.105299</td>\n",
       "      <td>0.599608</td>\n",
       "      <td>0.068903</td>\n",
       "      <td>...</td>\n",
       "      <td>0.300280</td>\n",
       "      <td>4.702925</td>\n",
       "      <td>-0.437510</td>\n",
       "      <td>-0.279381</td>\n",
       "      <td>-0.257323</td>\n",
       "      <td>0.217614</td>\n",
       "      <td>2.334764</td>\n",
       "      <td>0.642518</td>\n",
       "      <td>2.864620</td>\n",
       "      <td>0.464726</td>\n",
       "    </tr>\n",
       "  </tbody>\n",
       "</table>\n",
       "<p>10 rows × 140 columns</p>\n",
       "</div>"
      ],
      "text/plain": [
       "gene_id           CD86     CD274     CD270     CD155     CD112      CD47  \\\n",
       "cell_id                                                                    \n",
       "45006fe3e4c8  1.167804  0.622530  0.106959  0.324989  3.331674  6.426002   \n",
       "d02759a80ba2  0.818970  0.506009  1.078682  6.848758  3.524885  5.279456   \n",
       "c016c6b0efa5 -0.356703 -0.422261 -0.824493  1.137495  0.518924  7.221962   \n",
       "ba7f733a4f75 -1.201507  0.149115  2.022468  6.021595  7.258670  2.792436   \n",
       "fbcf2443ffb2 -0.100404  0.697461  0.625836 -0.298404  1.369898  3.254521   \n",
       "d80d84ca8e89  0.823984  1.625772  1.822752  4.997647  3.724057  6.518525   \n",
       "1ac2049b4c98 -0.251233  0.437289  0.446926  2.287276  4.846608  4.191521   \n",
       "33fb0c29e2e4 -0.712949  0.767436  0.319612  2.086327  4.764974  4.226422   \n",
       "b329261bd0ee -0.789034 -0.969421 -0.778914  6.375010  2.194136  5.418705   \n",
       "703762287e88 -0.473821  0.155581 -0.370770  4.325928  3.505487  9.068518   \n",
       "\n",
       "gene_id            CD48      CD40     CD154      CD52  ...      CD94  \\\n",
       "cell_id                                                ...             \n",
       "45006fe3e4c8   1.480766 -0.728392 -0.468851 -0.073285  ... -0.448390   \n",
       "d02759a80ba2   4.930438  2.069372  0.333652 -0.468088  ...  0.323613   \n",
       "c016c6b0efa5  -0.375034  1.738071  0.142919 -0.971460  ...  1.348692   \n",
       "ba7f733a4f75  21.708519 -0.137913  1.649969 -0.754680  ...  1.504426   \n",
       "fbcf2443ffb2  -1.659380  0.643531  0.902710  1.291877  ...  0.777023   \n",
       "d80d84ca8e89   2.449981  1.173179  2.295857 -0.462413  ...  0.901014   \n",
       "1ac2049b4c98  -0.241756 -0.242487 -0.451786 -0.852090  ... -0.354183   \n",
       "33fb0c29e2e4   3.407308 -0.152221  0.143234  0.789948  ...  1.399044   \n",
       "b329261bd0ee   0.616213 -0.821651  0.945098 -0.287850  ... -1.523964   \n",
       "703762287e88   4.905013  0.105299  0.599608  0.068903  ...  0.300280   \n",
       "\n",
       "gene_id           CD162     CD85j      CD23     CD328     HLA-E      CD82  \\\n",
       "cell_id                                                                     \n",
       "45006fe3e4c8   3.220174 -0.533004  0.674956 -0.006187  0.682148  1.398105   \n",
       "d02759a80ba2   8.407108  0.131301  0.047607 -0.243628  0.547864  1.832587   \n",
       "c016c6b0efa5   4.888579 -0.279483 -0.131097 -0.177604 -0.689188  9.013709   \n",
       "ba7f733a4f75  12.391979  0.511394  0.587863 -0.752638  1.714851  3.893782   \n",
       "fbcf2443ffb2   6.496499  0.279898 -0.841950 -0.869419  0.675092  5.259685   \n",
       "d80d84ca8e89   9.267448  1.097684  0.813053 -0.240215 -0.805000  6.743105   \n",
       "1ac2049b4c98   4.410163 -0.137172  0.206710 -0.105814  1.359257  6.786676   \n",
       "33fb0c29e2e4   6.574143 -0.218504  0.164048 -0.420091  0.777930  0.228930   \n",
       "b329261bd0ee  13.045828  0.177115 -0.282712 -0.471879  0.125659  2.828253   \n",
       "703762287e88   4.702925 -0.437510 -0.279381 -0.257323  0.217614  2.334764   \n",
       "\n",
       "gene_id          CD101      CD88     CD224  \n",
       "cell_id                                     \n",
       "45006fe3e4c8  0.414292  1.780314  0.548070  \n",
       "d02759a80ba2  0.982308  2.736507  2.184063  \n",
       "c016c6b0efa5 -1.182975  3.958148  2.868600  \n",
       "ba7f733a4f75  1.799661  1.537249  4.407671  \n",
       "fbcf2443ffb2 -0.835379  9.631781  1.765445  \n",
       "d80d84ca8e89  0.674436  7.553413  6.586785  \n",
       "1ac2049b4c98  0.925184  0.734522  2.155540  \n",
       "33fb0c29e2e4 -0.357916  0.167051  0.144523  \n",
       "b329261bd0ee -0.454536  3.906054  3.682451  \n",
       "703762287e88  0.642518  2.864620  0.464726  \n",
       "\n",
       "[10 rows x 140 columns]"
      ]
     },
     "execution_count": 2,
     "metadata": {},
     "output_type": "execute_result"
    }
   ],
   "source": [
    "target_path = \"/kaggle/input/open-problems-multimodal/train_cite_targets.h5\"\n",
    "y = pd.read_hdf(target_path)\n",
    "\n",
    "print(\"Protein data shape:\", y.shape)\n",
    "y.head(10)  \n"
   ]
  },
  {
   "cell_type": "code",
   "execution_count": 3,
   "id": "1a74a837",
   "metadata": {
    "execution": {
     "iopub.execute_input": "2025-08-27T10:19:14.830490Z",
     "iopub.status.busy": "2025-08-27T10:19:14.830091Z",
     "iopub.status.idle": "2025-08-27T10:19:18.536486Z",
     "shell.execute_reply": "2025-08-27T10:19:18.535350Z"
    },
    "papermill": {
     "duration": 3.715056,
     "end_time": "2025-08-27T10:19:18.538609",
     "exception": false,
     "start_time": "2025-08-27T10:19:14.823553",
     "status": "completed"
    },
    "tags": []
   },
   "outputs": [
    {
     "name": "stdout",
     "output_type": "stream",
     "text": [
      "RNA - Total missing values: 0\n",
      "Protein - Total missing values: 0\n"
     ]
    }
   ],
   "source": [
    "rna_missing = X.isnull().sum().sum()\n",
    "print(f\"RNA - Total missing values: {rna_missing}\")\n",
    "protein_missing = y.isnull().sum().sum()\n",
    "print(f\"Protein - Total missing values: {protein_missing}\")"
   ]
  },
  {
   "cell_type": "code",
   "execution_count": 4,
   "id": "3d2cb799",
   "metadata": {
    "execution": {
     "iopub.execute_input": "2025-08-27T10:19:18.555340Z",
     "iopub.status.busy": "2025-08-27T10:19:18.554969Z",
     "iopub.status.idle": "2025-08-27T10:19:22.176456Z",
     "shell.execute_reply": "2025-08-27T10:19:22.174967Z"
    },
    "papermill": {
     "duration": 3.631454,
     "end_time": "2025-08-27T10:19:22.178100",
     "exception": false,
     "start_time": "2025-08-27T10:19:18.546646",
     "status": "completed"
    },
    "tags": []
   },
   "outputs": [
    {
     "name": "stdout",
     "output_type": "stream",
     "text": [
      "RNA expression values:\n",
      "  Minimum value: 0.000000\n",
      "  Maximum value: 11.579091\n",
      "  Mean value: 0.977239\n",
      "\n",
      "Protein abundance values:\n",
      "  Minimum value: -52.475212\n",
      "  Maximum value: 120.460274\n",
      "  Mean value: 1.886106\n"
     ]
    }
   ],
   "source": [
    "# RNA value ranges\n",
    "print(\"RNA expression values:\")\n",
    "print(f\"  Minimum value: {X.values.min():.6f}\")\n",
    "print(f\"  Maximum value: {X.values.max():.6f}\")\n",
    "print(f\"  Mean value: {X.values.mean():.6f}\")\n",
    "\n",
    "# Protein value ranges  \n",
    "print(\"\\nProtein abundance values:\")\n",
    "print(f\"  Minimum value: {y.values.min():.6f}\")\n",
    "print(f\"  Maximum value: {y.values.max():.6f}\")\n",
    "print(f\"  Mean value: {y.values.mean():.6f}\")"
   ]
  },
  {
   "cell_type": "code",
   "execution_count": 5,
   "id": "c6bec885",
   "metadata": {
    "execution": {
     "iopub.execute_input": "2025-08-27T10:19:22.191561Z",
     "iopub.status.busy": "2025-08-27T10:19:22.190910Z",
     "iopub.status.idle": "2025-08-27T10:19:25.946991Z",
     "shell.execute_reply": "2025-08-27T10:19:25.945818Z"
    },
    "papermill": {
     "duration": 3.764821,
     "end_time": "2025-08-27T10:19:25.948879",
     "exception": false,
     "start_time": "2025-08-27T10:19:22.184058",
     "status": "completed"
    },
    "tags": []
   },
   "outputs": [
    {
     "name": "stdout",
     "output_type": "stream",
     "text": [
      "RNA data - Zero values: 1,220,981,922\n",
      "RNA data - Percentage zeros: 78.00%\n",
      "Protein data - Zero values: 0\n",
      "Protein data - Percentage zeros: 0.00%\n"
     ]
    }
   ],
   "source": [
    "# Check how many zeros in RNA data\n",
    "rna_zeros = (X.values == 0).sum()\n",
    "rna_total = X.shape[0] * X.shape[1]\n",
    "print(f\"RNA data - Zero values: {rna_zeros:,}\")\n",
    "print(f\"RNA data - Percentage zeros: {rna_zeros / rna_total * 100:.2f}%\")\n",
    "\n",
    "# Check how many zeros in protein data  \n",
    "protein_zeros = (y.values == 0).sum()\n",
    "protein_total = y.shape[0] * y.shape[1]\n",
    "print(f\"Protein data - Zero values: {protein_zeros:,}\")\n",
    "print(f\"Protein data - Percentage zeros: {protein_zeros / protein_total * 100:.2f}%\")"
   ]
  },
  {
   "cell_type": "code",
   "execution_count": 6,
   "id": "4eeb622c",
   "metadata": {
    "execution": {
     "iopub.execute_input": "2025-08-27T10:19:25.966703Z",
     "iopub.status.busy": "2025-08-27T10:19:25.965144Z",
     "iopub.status.idle": "2025-08-27T10:19:54.344167Z",
     "shell.execute_reply": "2025-08-27T10:19:54.343138Z"
    },
    "papermill": {
     "duration": 28.389308,
     "end_time": "2025-08-27T10:19:54.345702",
     "exception": false,
     "start_time": "2025-08-27T10:19:25.956394",
     "status": "completed"
    },
    "tags": []
   },
   "outputs": [
    {
     "name": "stdout",
     "output_type": "stream",
     "text": [
      "Genes with all zeros: 449\n",
      "Genes with constant non-zero values: 0\n",
      "Genes with very low variance (<0.001): 449\n"
     ]
    }
   ],
   "source": [
    "# Check for genes that are all zeros\n",
    "all_zero_genes = (X == 0).all(axis=0)\n",
    "print(f\"Genes with all zeros: {all_zero_genes.sum()}\")\n",
    "\n",
    "# Check for genes with constant non-zero values\n",
    "constant_genes = X.nunique() == 1\n",
    "constant_nonzero_genes = constant_genes.sum() - all_zero_genes.sum()\n",
    "print(f\"Genes with constant non-zero values: {constant_nonzero_genes}\")\n",
    "\n",
    "# Check for genes with very low variance\n",
    "gene_variance = X.var()\n",
    "low_variance_genes = (gene_variance < 0.001).sum()\n",
    "print(f\"Genes with very low variance (<0.001): {low_variance_genes}\")"
   ]
  },
  {
   "cell_type": "code",
   "execution_count": 7,
   "id": "87110824",
   "metadata": {
    "execution": {
     "iopub.execute_input": "2025-08-27T10:19:54.360363Z",
     "iopub.status.busy": "2025-08-27T10:19:54.359925Z",
     "iopub.status.idle": "2025-08-27T10:20:00.705839Z",
     "shell.execute_reply": "2025-08-27T10:20:00.704576Z"
    },
    "papermill": {
     "duration": 6.354558,
     "end_time": "2025-08-27T10:20:00.707484",
     "exception": false,
     "start_time": "2025-08-27T10:19:54.352926",
     "status": "completed"
    },
    "tags": []
   },
   "outputs": [
    {
     "name": "stdout",
     "output_type": "stream",
     "text": [
      "Number of all-zero genes: 449\n",
      "First 10 all-zero gene names:\n",
      "['ENSG00000264031_ABHD15-AS1', 'ENSG00000173210_ABLIM3', 'ENSG00000268983_AC005253.2', 'ENSG00000251537_AC005324.3', 'ENSG00000267731_AC005332.2', 'ENSG00000176043_AC007160.1', 'ENSG00000232719_AC007272.1', 'ENSG00000230799_AC007279.1', 'ENSG00000257715_AC007298.1', 'ENSG00000236886_AC007563.2']\n",
      "Percentage of problematic genes: 2.04%\n",
      "Low-variance genes match all-zero genes: True\n"
     ]
    }
   ],
   "source": [
    "# Identify the all-zero genes\n",
    "all_zero_gene_indices = (X == 0).all(axis=0)\n",
    "all_zero_genes = X.columns[all_zero_gene_indices]\n",
    "print(f\"Number of all-zero genes: {all_zero_gene_indices.sum()}\")\n",
    "print(\"First 10 all-zero gene names:\")\n",
    "print(all_zero_genes[:10].tolist())\n",
    "\n",
    "# Check what percentage of genes are problematic\n",
    "total_genes = X.shape[1]\n",
    "problematic_genes = all_zero_gene_indices.sum()\n",
    "print(f\"Percentage of problematic genes: {problematic_genes/total_genes*100:.2f}%\")\n",
    "\n",
    "# Verify that low-variance genes are the same as all-zero genes\n",
    "low_var_mask = (X.var() < 0.001)\n",
    "print(f\"Low-variance genes match all-zero genes: {(low_var_mask == all_zero_gene_indices).all()}\")"
   ]
  },
  {
   "cell_type": "code",
   "execution_count": 8,
   "id": "5d7fcb94",
   "metadata": {
    "execution": {
     "iopub.execute_input": "2025-08-27T10:20:00.720875Z",
     "iopub.status.busy": "2025-08-27T10:20:00.720561Z",
     "iopub.status.idle": "2025-08-27T10:20:06.765394Z",
     "shell.execute_reply": "2025-08-27T10:20:06.764185Z"
    },
    "papermill": {
     "duration": 6.053324,
     "end_time": "2025-08-27T10:20:06.767027",
     "exception": false,
     "start_time": "2025-08-27T10:20:00.713703",
     "status": "completed"
    },
    "tags": []
   },
   "outputs": [
    {
     "name": "stdout",
     "output_type": "stream",
     "text": [
      "Original RNA shape: (70988, 22050)\n",
      "After removing all-zero genes: (70988, 21601)\n",
      "Genes removed: 449\n",
      "New zero percentage: 77.55%\n"
     ]
    }
   ],
   "source": [
    "non_zero_genes_mask = ~all_zero_gene_indices\n",
    "X_filtered = X.loc[:, non_zero_genes_mask]\n",
    "\n",
    "print(f\"Original RNA shape: {X.shape}\")\n",
    "print(f\"After removing all-zero genes: {X_filtered.shape}\")\n",
    "print(f\"Genes removed: {X.shape[1] - X_filtered.shape[1]}\")\n",
    "\n",
    "# Recalculate sparsity for filtered data\n",
    "rna_zeros_filtered = (X_filtered.values == 0).sum()\n",
    "rna_total_filtered = X_filtered.shape[0] * X_filtered.shape[1]\n",
    "print(f\"New zero percentage: {rna_zeros_filtered / rna_total_filtered * 100:.2f}%\")"
   ]
  },
  {
   "cell_type": "code",
   "execution_count": 9,
   "id": "3b2fd6b2",
   "metadata": {
    "execution": {
     "iopub.execute_input": "2025-08-27T10:20:06.780873Z",
     "iopub.status.busy": "2025-08-27T10:20:06.780556Z",
     "iopub.status.idle": "2025-08-27T10:20:09.208929Z",
     "shell.execute_reply": "2025-08-27T10:20:09.207671Z"
    },
    "papermill": {
     "duration": 2.437266,
     "end_time": "2025-08-27T10:20:09.210726",
     "exception": false,
     "start_time": "2025-08-27T10:20:06.773460",
     "status": "completed"
    },
    "tags": []
   },
   "outputs": [
    {
     "name": "stdout",
     "output_type": "stream",
     "text": [
      "Original shape: (70988, 22050)\n",
      "After removing all-zero genes: (70988, 21601)\n",
      "Removed 449 genes\n",
      "New gene count: 21601\n"
     ]
    }
   ],
   "source": [
    "# Create mask for genes to keep (non-zero variance genes)\n",
    "genes_to_keep = ~all_zero_gene_indices\n",
    "X_filtered = X.loc[:, genes_to_keep]\n",
    "\n",
    "print(f\"Original shape: {X.shape}\")\n",
    "print(f\"After removing all-zero genes: {X_filtered.shape}\")\n",
    "print(f\"Removed {X.shape[1] - X_filtered.shape[1]} genes\")\n",
    "print(f\"New gene count: {X_filtered.shape[1]}\")"
   ]
  },
  {
   "cell_type": "code",
   "execution_count": 10,
   "id": "776bf607",
   "metadata": {
    "execution": {
     "iopub.execute_input": "2025-08-27T10:20:09.226757Z",
     "iopub.status.busy": "2025-08-27T10:20:09.226433Z",
     "iopub.status.idle": "2025-08-27T10:20:12.655404Z",
     "shell.execute_reply": "2025-08-27T10:20:12.654200Z"
    },
    "papermill": {
     "duration": 3.439805,
     "end_time": "2025-08-27T10:20:12.657608",
     "exception": false,
     "start_time": "2025-08-27T10:20:09.217803",
     "status": "completed"
    },
    "tags": []
   },
   "outputs": [
    {
     "name": "stdout",
     "output_type": "stream",
     "text": [
      "Original sparsity: 78.00%\n",
      "New sparsity: 77.55%\n",
      "Sparsity improvement: 0.45% points\n"
     ]
    }
   ],
   "source": [
    "# Calculate new sparsity\n",
    "rna_zeros_filtered = (X_filtered.values == 0).sum()\n",
    "rna_total_filtered = X_filtered.shape[0] * X_filtered.shape[1]\n",
    "sparsity_filtered = rna_zeros_filtered / rna_total_filtered * 100\n",
    "\n",
    "print(f\"Original sparsity: 78.00%\")\n",
    "print(f\"New sparsity: {sparsity_filtered:.2f}%\")\n",
    "print(f\"Sparsity improvement: {78.00 - sparsity_filtered:.2f}% points\")"
   ]
  },
  {
   "cell_type": "code",
   "execution_count": 11,
   "id": "39933d66",
   "metadata": {
    "execution": {
     "iopub.execute_input": "2025-08-27T10:20:12.671928Z",
     "iopub.status.busy": "2025-08-27T10:20:12.671621Z",
     "iopub.status.idle": "2025-08-27T10:20:30.092225Z",
     "shell.execute_reply": "2025-08-27T10:20:30.091191Z"
    },
    "papermill": {
     "duration": 17.429741,
     "end_time": "2025-08-27T10:20:30.093899",
     "exception": false,
     "start_time": "2025-08-27T10:20:12.664158",
     "status": "completed"
    },
    "tags": []
   },
   "outputs": [
    {
     "name": "stdout",
     "output_type": "stream",
     "text": [
      "\n",
      "Non-zero values analysis:\n",
      "  Non-zero count: 344,303,478\n",
      "  Non-zero min: 2.971592\n",
      "  Non-zero max: 11.579091\n",
      "  Non-zero mean: 4.442756\n"
     ]
    }
   ],
   "source": [
    "non_zero_values = X_filtered.values[X_filtered.values > 0]\n",
    "print(f\"\\nNon-zero values analysis:\")\n",
    "print(f\"  Non-zero count: {len(non_zero_values):,}\")\n",
    "print(f\"  Non-zero min: {non_zero_values.min():.6f}\")\n",
    "print(f\"  Non-zero max: {non_zero_values.max():.6f}\")\n",
    "print(f\"  Non-zero mean: {non_zero_values.mean():.6f}\")"
   ]
  },
  {
   "cell_type": "code",
   "execution_count": 12,
   "id": "2921a24b",
   "metadata": {
    "execution": {
     "iopub.execute_input": "2025-08-27T10:20:30.108986Z",
     "iopub.status.busy": "2025-08-27T10:20:30.107951Z",
     "iopub.status.idle": "2025-08-27T10:20:34.927322Z",
     "shell.execute_reply": "2025-08-27T10:20:34.926390Z"
    },
    "papermill": {
     "duration": 4.828312,
     "end_time": "2025-08-27T10:20:34.928974",
     "exception": false,
     "start_time": "2025-08-27T10:20:30.100662",
     "status": "completed"
    },
    "tags": []
   },
   "outputs": [
    {
     "name": "stdout",
     "output_type": "stream",
     "text": [
      "Gene variance - Min: 0.002411, Max: 9.074976\n",
      "Gene variance - Mean: 1.545056, Median: 0.829106\n",
      "0th percentile: 0.002411\n",
      "25th percentile: 0.098029\n",
      "50th percentile: 0.829106\n",
      "75th percentile: 3.083288\n",
      "90th percentile: 4.057149\n",
      "95th percentile: 4.212352\n",
      "99th percentile: 4.496461\n",
      "100th percentile: 9.074976\n"
     ]
    }
   ],
   "source": [
    "import numpy as np\n",
    "# Calculate variance for each gene\n",
    "gene_variance = X_filtered.var()\n",
    "print(f\"Gene variance - Min: {gene_variance.min():.6f}, Max: {gene_variance.max():.6f}\")\n",
    "print(f\"Gene variance - Mean: {gene_variance.mean():.6f}, Median: {gene_variance.median():.6f}\")\n",
    "\n",
    "# Let's look at variance percentiles to understand the distribution\n",
    "percentiles = [0, 25, 50, 75, 90, 95, 99, 100]\n",
    "for p in percentiles:\n",
    "    value = np.percentile(gene_variance, p)\n",
    "    print(f\"{p}th percentile: {value:.6f}\")"
   ]
  },
  {
   "cell_type": "code",
   "execution_count": 13,
   "id": "6da8d0b2",
   "metadata": {
    "execution": {
     "iopub.execute_input": "2025-08-27T10:20:34.943678Z",
     "iopub.status.busy": "2025-08-27T10:20:34.943390Z",
     "iopub.status.idle": "2025-08-27T10:20:34.970841Z",
     "shell.execute_reply": "2025-08-27T10:20:34.969802Z"
    },
    "papermill": {
     "duration": 0.03654,
     "end_time": "2025-08-27T10:20:34.972555",
     "exception": false,
     "start_time": "2025-08-27T10:20:34.936015",
     "status": "completed"
    },
    "tags": []
   },
   "outputs": [
    {
     "name": "stdout",
     "output_type": "stream",
     "text": [
      "Variance thresholds for selection:\n",
      "Top 2000: min variance = 4.087864\n",
      "Top 3000: min variance = 3.874269\n",
      "Top 5000: min variance = 3.224361\n",
      "Top 2000 genes = 9.3% of total\n",
      "Top 3000 genes = 13.9% of total\n",
      "Top 5000 genes = 23.1% of total\n"
     ]
    }
   ],
   "source": [
    "# Select top variable genes using different thresholds\n",
    "top_2000_genes = gene_variance.nlargest(2000).index\n",
    "top_3000_genes = gene_variance.nlargest(3000).index\n",
    "top_5000_genes = gene_variance.nlargest(5000).index\n",
    "\n",
    "print(\"Variance thresholds for selection:\")\n",
    "print(f\"Top 2000: min variance = {gene_variance[top_2000_genes].min():.6f}\")\n",
    "print(f\"Top 3000: min variance = {gene_variance[top_3000_genes].min():.6f}\") \n",
    "print(f\"Top 5000: min variance = {gene_variance[top_5000_genes].min():.6f}\")\n",
    "\n",
    "# See what percentage of genes we're keeping\n",
    "for n_genes in [2000, 3000, 5000]:\n",
    "    percentage = (n_genes / len(gene_variance)) * 100\n",
    "    print(f\"Top {n_genes} genes = {percentage:.1f}% of total\")"
   ]
  },
  {
   "cell_type": "code",
   "execution_count": 14,
   "id": "96fd219e",
   "metadata": {
    "execution": {
     "iopub.execute_input": "2025-08-27T10:20:34.987025Z",
     "iopub.status.busy": "2025-08-27T10:20:34.986702Z",
     "iopub.status.idle": "2025-08-27T10:20:37.583819Z",
     "shell.execute_reply": "2025-08-27T10:20:37.582785Z"
    },
    "papermill": {
     "duration": 2.606258,
     "end_time": "2025-08-27T10:20:37.585581",
     "exception": false,
     "start_time": "2025-08-27T10:20:34.979323",
     "status": "completed"
    },
    "tags": []
   },
   "outputs": [
    {
     "name": "stdout",
     "output_type": "stream",
     "text": [
      "Comparison of different gene selections:\n",
      "Top 2000: 43.0% zeros, mean expression: 2.386\n",
      "Top 3000: 44.1% zeros, mean expression: 2.331\n",
      "Top 5000: 47.2% zeros, mean expression: 2.204\n"
     ]
    }
   ],
   "source": [
    "import numpy as np\n",
    "def analyze_selected_genes(X, selected_genes):\n",
    "    \"\"\"Analyze characteristics of selected genes\"\"\"\n",
    "    selected_data = X[selected_genes]\n",
    "    \n",
    "    # Calculate sparsity\n",
    "    zeros = (selected_data == 0).sum().sum()\n",
    "    total = selected_data.shape[0] * selected_data.shape[1]\n",
    "    zero_pct = zeros / total * 100\n",
    "    \n",
    "    # Calculate average expression\n",
    "    mean_expression = selected_data.values.mean()\n",
    "    \n",
    "    return zero_pct, mean_expression\n",
    "\n",
    "# Analyze each selection\n",
    "print(\"Comparison of different gene selections:\")\n",
    "for n, genes in [(2000, top_2000_genes), (3000, top_3000_genes), (5000, top_5000_genes)]:\n",
    "    zero_pct, mean_expr = analyze_selected_genes(X_filtered, genes)\n",
    "    print(f\"Top {n}: {zero_pct:.1f}% zeros, mean expression: {mean_expr:.3f}\")"
   ]
  },
  {
   "cell_type": "code",
   "execution_count": 15,
   "id": "073ce245",
   "metadata": {
    "execution": {
     "iopub.execute_input": "2025-08-27T10:20:37.601148Z",
     "iopub.status.busy": "2025-08-27T10:20:37.600841Z",
     "iopub.status.idle": "2025-08-27T10:20:38.373054Z",
     "shell.execute_reply": "2025-08-27T10:20:38.371965Z"
    },
    "papermill": {
     "duration": 0.781885,
     "end_time": "2025-08-27T10:20:38.374650",
     "exception": false,
     "start_time": "2025-08-27T10:20:37.592765",
     "status": "completed"
    },
    "tags": []
   },
   "outputs": [
    {
     "name": "stdout",
     "output_type": "stream",
     "text": [
      "Based on variance analysis:\n",
      "- 99th percentile variance: 4.496461\n",
      "- Top 3000 genes have variance > 3.874269\n",
      "\n",
      "Final selected data shape: (70988, 3000)\n",
      "Reduction from original: 22050 → 3000 genes (13.6%)\n",
      "Memory usage: 817.1 MB\n",
      "Final sparsity: 44.1%\n"
     ]
    }
   ],
   "source": [
    "print(\"Based on variance analysis:\")\n",
    "print(f\"- 99th percentile variance: {np.percentile(gene_variance, 99):.6f}\")\n",
    "print(f\"- Top 3000 genes have variance > {gene_variance[top_3000_genes].min():.6f}\")\n",
    "\n",
    "# Choose top 3000 genes as a balanced approach\n",
    "selected_genes = top_3000_genes\n",
    "X_hvg = X_filtered[selected_genes]\n",
    "\n",
    "print(f\"\\nFinal selected data shape: {X_hvg.shape}\")\n",
    "print(f\"Reduction from original: {X.shape[1]} → {X_hvg.shape[1]} genes ({X_hvg.shape[1]/X.shape[1]*100:.1f}%)\")\n",
    "print(f\"Memory usage: {X_hvg.memory_usage(deep=True).sum() / 1024**2:.1f} MB\")\n",
    "\n",
    "# Check final sparsity\n",
    "final_zeros = (X_hvg == 0).sum().sum()\n",
    "final_total = X_hvg.shape[0] * X_hvg.shape[1]\n",
    "print(f\"Final sparsity: {final_zeros/final_total*100:.1f}%\")"
   ]
  },
  {
   "cell_type": "code",
   "execution_count": 16,
   "id": "f3919cac",
   "metadata": {
    "execution": {
     "iopub.execute_input": "2025-08-27T10:20:38.389650Z",
     "iopub.status.busy": "2025-08-27T10:20:38.389252Z",
     "iopub.status.idle": "2025-08-27T10:20:39.372334Z",
     "shell.execute_reply": "2025-08-27T10:20:39.371253Z"
    },
    "papermill": {
     "duration": 0.992236,
     "end_time": "2025-08-27T10:20:39.373998",
     "exception": false,
     "start_time": "2025-08-27T10:20:38.381762",
     "status": "completed"
    },
    "tags": []
   },
   "outputs": [
    {
     "name": "stdout",
     "output_type": "stream",
     "text": [
      "Current data statistics:\n",
      "Min value: 0.000000\n",
      "Max value: 11.550126\n",
      "Mean: 2.331089\n",
      "Std: 2.114364\n"
     ]
    }
   ],
   "source": [
    "# Check the distribution of our selected genes\n",
    "print(\"Current data statistics:\")\n",
    "print(f\"Min value: {X_hvg.values.min():.6f}\")\n",
    "print(f\"Max value: {X_hvg.values.max():.6f}\") \n",
    "print(f\"Mean: {X_hvg.values.mean():.6f}\")\n",
    "print(f\"Std: {X_hvg.values.std():.6f}\")\n"
   ]
  },
  {
   "cell_type": "code",
   "execution_count": 17,
   "id": "22117795",
   "metadata": {
    "execution": {
     "iopub.execute_input": "2025-08-27T10:20:39.389756Z",
     "iopub.status.busy": "2025-08-27T10:20:39.389423Z",
     "iopub.status.idle": "2025-08-27T10:20:46.664533Z",
     "shell.execute_reply": "2025-08-27T10:20:46.663368Z"
    },
    "papermill": {
     "duration": 7.28484,
     "end_time": "2025-08-27T10:20:46.666072",
     "exception": false,
     "start_time": "2025-08-27T10:20:39.381232",
     "status": "completed"
    },
    "tags": []
   },
   "outputs": [
    {
     "name": "stdout",
     "output_type": "stream",
     "text": [
      "After StandardScaler:\n",
      "Min: -2.251541\n",
      "Max: 4.495762\n",
      "Mean: -0.000000\n",
      "Std: 1.000000\n",
      "Data is now centered (mean ≈ 0) and scaled (std ≈ 1)\n",
      "Ready for machine learning models\n"
     ]
    }
   ],
   "source": [
    "from sklearn.preprocessing import StandardScaler\n",
    "# Initialize and fit the scaler\n",
    "rna_scaler = StandardScaler()\n",
    "X_hvg_scaled = rna_scaler.fit_transform(X_hvg)\n",
    "\n",
    "# Convert back to DataFrame for easier handling\n",
    "X_hvg_scaled_df = pd.DataFrame(X_hvg_scaled, index=X_hvg.index, columns=X_hvg.columns)\n",
    "\n",
    "print(\"After StandardScaler:\")\n",
    "print(f\"Min: {X_hvg_scaled.min():.6f}\")\n",
    "print(f\"Max: {X_hvg_scaled.max():.6f}\")\n",
    "print(f\"Mean: {X_hvg_scaled.mean():.6f}\")\n",
    "print(f\"Std: {X_hvg_scaled.std():.6f}\")\n",
    "\n",
    "print(\"Data is now centered (mean ≈ 0) and scaled (std ≈ 1)\")\n",
    "print(\"Ready for machine learning models\")"
   ]
  },
  {
   "cell_type": "code",
   "execution_count": 18,
   "id": "d5acd7f6",
   "metadata": {
    "execution": {
     "iopub.execute_input": "2025-08-27T10:20:46.682623Z",
     "iopub.status.busy": "2025-08-27T10:20:46.682074Z",
     "iopub.status.idle": "2025-08-27T10:20:47.001463Z",
     "shell.execute_reply": "2025-08-27T10:20:47.000263Z"
    },
    "papermill": {
     "duration": 0.329604,
     "end_time": "2025-08-27T10:20:47.003468",
     "exception": false,
     "start_time": "2025-08-27T10:20:46.673864",
     "status": "completed"
    },
    "tags": []
   },
   "outputs": [
    {
     "name": "stdout",
     "output_type": "stream",
     "text": [
      "Protein data before scaling:\n",
      "Min: -52.475212\n",
      "Max: 120.460274\n",
      "Mean: 1.886106\n",
      "Std: 3.429111\n",
      "\n",
      "Protein data after scaling:\n",
      "Min: -12.675181\n",
      "Max: 45.754055\n",
      "Mean: 0.000000\n",
      "Std: 1.000000\n"
     ]
    }
   ],
   "source": [
    "# Check current protein data distribution\n",
    "print(\"Protein data before scaling:\")\n",
    "print(f\"Min: {y.values.min():.6f}\")\n",
    "print(f\"Max: {y.values.max():.6f}\")\n",
    "print(f\"Mean: {y.values.mean():.6f}\")\n",
    "print(f\"Std: {y.values.std():.6f}\")\n",
    "\n",
    "# Scale protein targets\n",
    "protein_scaler = StandardScaler()\n",
    "y_scaled = protein_scaler.fit_transform(y)\n",
    "\n",
    "# Convert back to DataFrame\n",
    "y_scaled_df = pd.DataFrame(y_scaled, index=y.index, columns=y.columns)\n",
    "\n",
    "print(\"\\nProtein data after scaling:\")\n",
    "print(f\"Min: {y_scaled.min():.6f}\")\n",
    "print(f\"Max: {y_scaled.max():.6f}\") \n",
    "print(f\"Mean: {y_scaled.mean():.6f}\")\n",
    "print(f\"Std: {y_scaled.std():.6f}\")"
   ]
  },
  {
   "cell_type": "code",
   "execution_count": 19,
   "id": "e14bcddb",
   "metadata": {
    "execution": {
     "iopub.execute_input": "2025-08-27T10:20:47.020966Z",
     "iopub.status.busy": "2025-08-27T10:20:47.020617Z",
     "iopub.status.idle": "2025-08-27T10:20:47.041641Z",
     "shell.execute_reply": "2025-08-27T10:20:47.040611Z"
    },
    "papermill": {
     "duration": 0.031824,
     "end_time": "2025-08-27T10:20:47.043510",
     "exception": false,
     "start_time": "2025-08-27T10:20:47.011686",
     "status": "completed"
    },
    "tags": []
   },
   "outputs": [
    {
     "name": "stdout",
     "output_type": "stream",
     "text": [
      "✓ Preprocessing objects saved for future use\n",
      "\n",
      "Final preprocessed data shapes:\n",
      "X (RNA) scaled: (70988, 3000)\n",
      "y (Proteins) scaled: (70988, 140)\n",
      "Data preprocessing complete! Ready for model training.\n"
     ]
    }
   ],
   "source": [
    "import joblib\n",
    "\n",
    "# Save the scalers and gene selection information\n",
    "preprocessing_info = {\n",
    "    'rna_scaler': rna_scaler,\n",
    "    'protein_scaler': protein_scaler,\n",
    "    'selected_genes': selected_genes.tolist(),  # Save which genes we selected\n",
    "    'all_zero_genes_removed': all_zero_genes.tolist()  # Save which genes we removed\n",
    "}\n",
    "\n",
    "joblib.dump(preprocessing_info, 'preprocessing_objects.joblib')\n",
    "print(\"✓ Preprocessing objects saved for future use\")\n",
    "\n",
    "print(f\"\\nFinal preprocessed data shapes:\")\n",
    "print(f\"X (RNA) scaled: {X_hvg_scaled_df.shape}\")\n",
    "print(f\"y (Proteins) scaled: {y_scaled_df.shape}\")\n",
    "print(\"Data preprocessing complete! Ready for model training.\")"
   ]
  },
  {
   "cell_type": "code",
   "execution_count": 20,
   "id": "4d9eed00",
   "metadata": {
    "execution": {
     "iopub.execute_input": "2025-08-27T10:20:47.061363Z",
     "iopub.status.busy": "2025-08-27T10:20:47.060950Z",
     "iopub.status.idle": "2025-08-27T10:20:48.175607Z",
     "shell.execute_reply": "2025-08-27T10:20:48.174389Z"
    },
    "papermill": {
     "duration": 1.126057,
     "end_time": "2025-08-27T10:20:48.177129",
     "exception": false,
     "start_time": "2025-08-27T10:20:47.051072",
     "status": "completed"
    },
    "tags": []
   },
   "outputs": [
    {
     "name": "stdout",
     "output_type": "stream",
     "text": [
      "Training set: (56790, 3000) (RNA), (56790, 140) (Proteins)\n",
      "Validation set: (14198, 3000) (RNA), (14198, 140) (Proteins)\n",
      "Split ratio: 80.0% train, 20.0% validation\n"
     ]
    }
   ],
   "source": [
    "from sklearn.model_selection import train_test_split\n",
    "\n",
    "# Split the data into training and validation sets\n",
    "X_train, X_val, y_train, y_val = train_test_split(\n",
    "    X_hvg_scaled_df,  # Our preprocessed RNA data\n",
    "    y_scaled_df,      # Our preprocessed protein targets  \n",
    "    test_size=0.2,    # 20% for validation\n",
    "    random_state=42,  # For reproducibility\n",
    "    shuffle=True      # Shuffle the data before splitting\n",
    ")\n",
    "\n",
    "print(f\"Training set: {X_train.shape} (RNA), {y_train.shape} (Proteins)\")\n",
    "print(f\"Validation set: {X_val.shape} (RNA), {y_val.shape} (Proteins)\")\n",
    "print(f\"Split ratio: {X_train.shape[0]/X_hvg_scaled_df.shape[0]*100:.1f}% train, {X_val.shape[0]/X_hvg_scaled_df.shape[0]*100:.1f}% validation\")"
   ]
  },
  {
   "cell_type": "code",
   "execution_count": 21,
   "id": "6c7262e3",
   "metadata": {
    "execution": {
     "iopub.execute_input": "2025-08-27T10:20:48.193200Z",
     "iopub.status.busy": "2025-08-27T10:20:48.192870Z",
     "iopub.status.idle": "2025-08-27T10:30:46.347738Z",
     "shell.execute_reply": "2025-08-27T10:30:46.346664Z"
    },
    "papermill": {
     "duration": 598.181365,
     "end_time": "2025-08-27T10:30:46.365960",
     "exception": false,
     "start_time": "2025-08-27T10:20:48.184595",
     "status": "completed"
    },
    "tags": []
   },
   "outputs": [
    {
     "name": "stdout",
     "output_type": "stream",
     "text": [
      "Training Ridge regression model...\n",
      "Ridge model trained successfully!\n"
     ]
    }
   ],
   "source": [
    "from sklearn.linear_model import Ridge\n",
    "from sklearn.multioutput import MultiOutputRegressor\n",
    "from sklearn.metrics import mean_squared_error, r2_score\n",
    "\n",
    "# Ridge regression works well for high-dimensional data\n",
    "ridge = Ridge(alpha=1.0, random_state=42)\n",
    "\n",
    "# Use MultiOutputRegressor to handle multiple protein targets\n",
    "ridge_model = MultiOutputRegressor(ridge, n_jobs=-1)\n",
    "\n",
    "print(\"Training Ridge regression model...\")\n",
    "ridge_model.fit(X_train, y_train)\n",
    "\n",
    "print(\"Ridge model trained successfully!\")"
   ]
  },
  {
   "cell_type": "code",
   "execution_count": 22,
   "id": "02a194b9",
   "metadata": {
    "execution": {
     "iopub.execute_input": "2025-08-27T10:30:46.383410Z",
     "iopub.status.busy": "2025-08-27T10:30:46.383042Z",
     "iopub.status.idle": "2025-08-27T10:30:52.668335Z",
     "shell.execute_reply": "2025-08-27T10:30:52.666927Z"
    },
    "papermill": {
     "duration": 6.29626,
     "end_time": "2025-08-27T10:30:52.669962",
     "exception": false,
     "start_time": "2025-08-27T10:30:46.373702",
     "status": "completed"
    },
    "tags": []
   },
   "outputs": [
    {
     "name": "stdout",
     "output_type": "stream",
     "text": [
      "Validation Metrics:\n",
      "Mean Squared Error: 0.822693\n",
      "R² Score: 0.173184\n",
      "\n",
      "Per-protein R² range: -0.0523 to 0.7264\n",
      "Average per-protein R²: 0.1737\n"
     ]
    }
   ],
   "source": [
    "# Make predictions on validation set\n",
    "y_val_pred = ridge_model.predict(X_val)\n",
    "\n",
    "# Calculate evaluation metrics\n",
    "mse = mean_squared_error(y_val, y_val_pred)\n",
    "r2 = r2_score(y_val, y_val_pred, multioutput='variance_weighted')\n",
    "\n",
    "print(f\"Validation Metrics:\")\n",
    "print(f\"Mean Squared Error: {mse:.6f}\")\n",
    "print(f\"R² Score: {r2:.6f}\")\n",
    "\n",
    "# Also check per-protein performance\n",
    "protein_r2_scores = []\n",
    "for i in range(y_val.shape[1]):\n",
    "    protein_r2 = r2_score(y_val.iloc[:, i], y_val_pred[:, i])\n",
    "    protein_r2_scores.append(protein_r2)\n",
    "\n",
    "print(f\"\\nPer-protein R² range: {min(protein_r2_scores):.4f} to {max(protein_r2_scores):.4f}\")\n",
    "print(f\"Average per-protein R²: {np.mean(protein_r2_scores):.4f}\")"
   ]
  },
  {
   "cell_type": "code",
   "execution_count": 23,
   "id": "8bc9aad5",
   "metadata": {
    "execution": {
     "iopub.execute_input": "2025-08-27T10:30:52.687584Z",
     "iopub.status.busy": "2025-08-27T10:30:52.687243Z",
     "iopub.status.idle": "2025-08-27T10:30:52.700333Z",
     "shell.execute_reply": "2025-08-27T10:30:52.699277Z"
    },
    "papermill": {
     "duration": 0.023498,
     "end_time": "2025-08-27T10:30:52.701924",
     "exception": false,
     "start_time": "2025-08-27T10:30:52.678426",
     "status": "completed"
    },
    "tags": []
   },
   "outputs": [
    {
     "name": "stdout",
     "output_type": "stream",
     "text": [
      "Top 10 most predictable proteins:\n",
      "    protein  r2_score\n",
      "89     CD41  0.726416\n",
      "108    CD71  0.658694\n",
      "138    CD88  0.643470\n",
      "6      CD48  0.618586\n",
      "48    CD62L  0.611493\n",
      "43     CD32  0.607456\n",
      "99    CD49b  0.588735\n",
      "17   CD45RA  0.583289\n",
      "4     CD112  0.572336\n",
      "73    CD11a  0.544266\n",
      "\n",
      "Bottom 10 least predictable proteins:\n",
      "    protein  r2_score\n",
      "123  TCRVd2 -0.031338\n",
      "25     CD14 -0.033909\n",
      "10      CD3 -0.035530\n",
      "53     CD27 -0.039079\n",
      "39    CD146 -0.039116\n",
      "19      CD7 -0.039940\n",
      "26     CD16 -0.040716\n",
      "78    CD268 -0.041944\n",
      "22    CD194 -0.047807\n",
      "101     IgD -0.052277\n",
      "\n",
      "Predictability distribution:\n",
      "Proteins with R² > 0.5: 15\n",
      "Proteins with R² > 0.3: 37\n",
      "Proteins with R² > 0.1: 65\n",
      "Proteins with R² < 0: 31\n"
     ]
    }
   ],
   "source": [
    "# Create a DataFrame of protein performance\n",
    "protein_performance = pd.DataFrame({\n",
    "    'protein': y.columns,\n",
    "    'r2_score': protein_r2_scores\n",
    "}).sort_values('r2_score', ascending=False)\n",
    "\n",
    "print(\"Top 10 most predictable proteins:\")\n",
    "print(protein_performance.head(10))\n",
    "\n",
    "print(\"\\nBottom 10 least predictable proteins:\")\n",
    "print(protein_performance.tail(10))\n",
    "\n",
    "# Analyze distribution of predictability\n",
    "print(f\"\\nPredictability distribution:\")\n",
    "print(f\"Proteins with R² > 0.5: {(protein_performance['r2_score'] > 0.5).sum()}\")\n",
    "print(f\"Proteins with R² > 0.3: {(protein_performance['r2_score'] > 0.3).sum()}\")\n",
    "print(f\"Proteins with R² > 0.1: {(protein_performance['r2_score'] > 0.1).sum()}\")\n",
    "print(f\"Proteins with R² < 0: {(protein_performance['r2_score'] < 0).sum()}\")"
   ]
  }
 ],
 "metadata": {
  "kaggle": {
   "accelerator": "none",
   "dataSources": [
    {
     "databundleVersionId": 4230952,
     "sourceId": 38128,
     "sourceType": "competition"
    }
   ],
   "dockerImageVersionId": 31089,
   "isGpuEnabled": false,
   "isInternetEnabled": true,
   "language": "python",
   "sourceType": "notebook"
  },
  "kernelspec": {
   "display_name": "Python 3",
   "language": "python",
   "name": "python3"
  },
  "language_info": {
   "codemirror_mode": {
    "name": "ipython",
    "version": 3
   },
   "file_extension": ".py",
   "mimetype": "text/x-python",
   "name": "python",
   "nbconvert_exporter": "python",
   "pygments_lexer": "ipython3",
   "version": "3.11.13"
  },
  "papermill": {
   "default_parameters": {},
   "duration": 764.789143,
   "end_time": "2025-08-27T10:30:55.436507",
   "environment_variables": {},
   "exception": null,
   "input_path": "__notebook__.ipynb",
   "output_path": "__notebook__.ipynb",
   "parameters": {},
   "start_time": "2025-08-27T10:18:10.647364",
   "version": "2.6.0"
  }
 },
 "nbformat": 4,
 "nbformat_minor": 5
}
